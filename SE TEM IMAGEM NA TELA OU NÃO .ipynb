{
 "cells": [
  {
   "cell_type": "code",
   "execution_count": 16,
   "metadata": {},
   "outputs": [
    {
     "name": "stdout",
     "output_type": "stream",
     "text": [
      "Box(left=180, top=182, width=575, height=61)\n",
      "Existe um cadeado aberto na tela\n"
     ]
    }
   ],
   "source": [
    "import pyautogui\n",
    "import time\n",
    "\n",
    "import pyautogui\n",
    "\n",
    "time.sleep(5)\n",
    "\n",
    "def posi():\n",
    "    icon_pos = pyautogui.locateOnScreen('NOTA_ENVIADA_SUCESSO.png',region=(180,182,575,61))\n",
    "\n",
    "    if icon_pos != None:\n",
    "        print(icon_pos)\n",
    "        print(\"Existe um cadeado aberto na tela\")\n",
    "    else:\n",
    "        print(\"Não existe nenhum cadeado aberto na tela\")\n",
    "        print(icon_pos)\n",
    "    return\n",
    "posi()"
   ]
  },
  {
   "cell_type": "code",
   "execution_count": 19,
   "metadata": {},
   "outputs": [],
   "source": [
    "import pyautogui\n",
    "import time\n",
    "\n",
    "import pyautogui\n",
    "\n",
    "time.sleep(5)\n",
    "icon_pos = pyautogui.locateOnScreen('NOTA_ENVIADA_SUCESSO.png',region=(180,182,575,61))\n",
    "\n",
    "if icon_pos == \"foto.jpg\":\n",
    "    print('igual')\n",
    "enviar_erp = pyautogui.locateCenterOnScreen('BOTAO_ENVIAR_ERP.PNG')\n",
    "pyautogui.click(enviar_erp.x, enviar_erp.y)"
   ]
  }
 ],
 "metadata": {
  "kernelspec": {
   "display_name": "Python 3",
   "language": "python",
   "name": "python3"
  },
  "language_info": {
   "codemirror_mode": {
    "name": "ipython",
    "version": 3
   },
   "file_extension": ".py",
   "mimetype": "text/x-python",
   "name": "python",
   "nbconvert_exporter": "python",
   "pygments_lexer": "ipython3",
   "version": "3.7.3"
  }
 },
 "nbformat": 4,
 "nbformat_minor": 2
}
