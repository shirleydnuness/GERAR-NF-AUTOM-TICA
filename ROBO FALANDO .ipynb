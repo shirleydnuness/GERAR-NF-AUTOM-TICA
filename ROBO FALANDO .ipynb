{
 "cells": [
  {
   "cell_type": "code",
   "execution_count": 22,
   "metadata": {},
   "outputs": [],
   "source": [
    "import pyttsx3\n",
    "\n",
    "\n",
    "rate = robo.getProperty('rate')\n",
    "voices = robo.getProperty('voices')\n",
    "\n",
    "robo.setProperty('voice', voices[1].id)\n",
    "robo.setProperty('rate', 125)\n",
    "\n",
    "robo = pyttsx3.init()\n",
    "\n",
    "robo.say('SA SI ')\n",
    "\n",
    "robo.runAndWait()\n",
    "\n",
    "\n"
   ]
  },
  {
   "cell_type": "code",
   "execution_count": null,
   "metadata": {},
   "outputs": [],
   "source": []
  }
 ],
 "metadata": {
  "kernelspec": {
   "display_name": "Python 3",
   "language": "python",
   "name": "python3"
  },
  "language_info": {
   "codemirror_mode": {
    "name": "ipython",
    "version": 3
   },
   "file_extension": ".py",
   "mimetype": "text/x-python",
   "name": "python",
   "nbconvert_exporter": "python",
   "pygments_lexer": "ipython3",
   "version": "3.7.3"
  }
 },
 "nbformat": 4,
 "nbformat_minor": 2
}
